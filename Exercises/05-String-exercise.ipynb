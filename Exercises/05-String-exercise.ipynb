{
 "cells": [
  {
   "cell_type": "code",
   "execution_count": null,
   "metadata": {},
   "outputs": [],
   "source": [
    "#1a. Counting letters\n",
    "\n",
    "user_word = input('Enter a word: ')\n",
    "print(len(user_word))"
   ]
  },
  {
   "cell_type": "code",
   "execution_count": null,
   "metadata": {},
   "outputs": [],
   "source": [
    "#1b. Counting letters\n",
    "\n",
    "user_word = input('Enter a word: ')\n",
    "letter = [x for x in user_word]\n",
    "upper_letters = [x for x in letter if x.isupper()]\n",
    "low_letters = [x for x in letter if x.islower()]\n",
    "print(\n",
    "    f\"The number of uppercase letters in word '{user_word}' is {len(upper_letters)}\")\n",
    "print(\n",
    "    f\"The number of lowercase letters in word '{user_word}' is {len(low_letters)}\")"
   ]
  },
  {
   "cell_type": "code",
   "execution_count": null,
   "metadata": {},
   "outputs": [],
   "source": [
    "#2. Counting words\n",
    "\n",
    "s = \"A picture says more than a thousand word, a mathematical formula says more than a thousand pictures.\"\n",
    "print(f\"There are {len(s.split())} words in a sentence.\")\n"
   ]
  },
  {
   "cell_type": "code",
   "execution_count": null,
   "metadata": {},
   "outputs": [],
   "source": [
    "#3. Palindrome\n",
    "user_word = input('Enter a sequence of characters: ').lower()\n",
    "reversed = user_word[::-1]\n",
    "if user_word == reversed:\n",
    "    print('The sequence of characters is a palindrome')\n",
    "else:\n",
    "    print('The sequence of characters is not palindrome')\n"
   ]
  },
  {
   "cell_type": "code",
   "execution_count": null,
   "metadata": {},
   "outputs": [],
   "source": [
    "#4. Vowels\n",
    "\n",
    "import re \n",
    "\n",
    "sentence = \"Pure mathemathics is, in its way, the poetry of logical ideas.\"\n",
    "vowels = r'[aeiouyAEIOUY]'\n",
    "print(f\"There are {len(re.findall(vowels, sentence))} vowels in this sentence\")\n",
    "\n"
   ]
  }
 ],
 "metadata": {
  "kernelspec": {
   "display_name": "Python 3",
   "language": "python",
   "name": "python3"
  },
  "language_info": {
   "codemirror_mode": {
    "name": "ipython",
    "version": 3
   },
   "file_extension": ".py",
   "mimetype": "text/x-python",
   "name": "python",
   "nbconvert_exporter": "python",
   "pygments_lexer": "ipython3",
   "version": "3.9.6"
  }
 },
 "nbformat": 4,
 "nbformat_minor": 2
}
