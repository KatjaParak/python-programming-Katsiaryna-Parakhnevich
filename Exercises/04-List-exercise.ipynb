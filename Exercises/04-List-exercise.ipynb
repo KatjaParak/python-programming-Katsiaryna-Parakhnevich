{
 "cells": [
  {
   "cell_type": "code",
   "execution_count": null,
   "metadata": {},
   "outputs": [],
   "source": [
    "#1. Dice rolls\n",
    "\n",
    "import matplotlib.pyplot as plt\n",
    "import random as rng\n",
    "\n",
    "dice_rolls = rng.randint(1, 10)\n",
    "my_list = []\n",
    "for x in dice_rolls:\n",
    "    my_list.append(str(x))\n",
    "print(my_list)"
   ]
  },
  {
   "cell_type": "code",
   "execution_count": null,
   "metadata": {},
   "outputs": [],
   "source": [
    "#2. Food meny\n",
    "\n",
    "food = [\"vegetarisk lasagne\", \"spaghetti\", \"fisk\", \"grönsaksoppa\", \"pannkakor\"]\n",
    "days = [\"Mån\", \"Tis\", \"Ons\", \"Tor\", \"Fre\"]\n",
    "meny = \"Veckomeny\\n\"\n",
    "\n",
    "for day, food in zip(days, food):\n",
    "    meny += f\"{day}: {food}\\n\"\n",
    "\n",
    "print(meny)\n"
   ]
  }
 ],
 "metadata": {
  "kernelspec": {
   "display_name": "Python 3",
   "language": "python",
   "name": "python3"
  },
  "language_info": {
   "codemirror_mode": {
    "name": "ipython",
    "version": 3
   },
   "file_extension": ".py",
   "mimetype": "text/x-python",
   "name": "python",
   "nbconvert_exporter": "python",
   "pygments_lexer": "ipython3",
   "version": "3.9.6"
  }
 },
 "nbformat": 4,
 "nbformat_minor": 2
}
