{
 "cells": [
  {
   "cell_type": "code",
   "execution_count": null,
   "metadata": {},
   "outputs": [],
   "source": [
    "#1. Check sign\n",
    "\n",
    "number = float(input('Enter number: '))\n",
    "if number < 0:\n",
    "    print('Your number is negative')\n",
    "elif number == 0:\n",
    "    print('Your number is zero')\n",
    "else:\n",
    "    print('Your number is positive')"
   ]
  },
  {
   "cell_type": "code",
   "execution_count": null,
   "metadata": {},
   "outputs": [],
   "source": [
    "#2. Smallest\n",
    "\n",
    "number_1 = float(input('Enter first number: '))\n",
    "number_2 = float(input('Enter second number: '))\n",
    "if number_1 < number_2:\n",
    "    print(f'First number {number_1} is the smallest.')\n",
    "else:\n",
    "    print(f'Second number {number_2} is the smallest.')"
   ]
  },
  {
   "cell_type": "code",
   "execution_count": null,
   "metadata": {},
   "outputs": [],
   "source": [
    "#3. Right angle\n",
    "\n",
    "angle_1 = float(input('The first angle is: '))\n",
    "angle_2 = float(input('The second angle is: '))\n",
    "angle_3 = float(input('The third angle is: '))\n",
    "sum = angle_1 + angle_2 + angle_3\n",
    "\n",
    "if sum == 180:\n",
    "    if angle_1 or angle_2 or angle_3 == 90:\n",
    "        print('Triangle has a right angle.')\n",
    "    else:\n",
    "        print('Triangle has not a right angle.')\n",
    "else:\n",
    "    print(\"Triangle's sum should be 180.\")"
   ]
  },
  {
   "cell_type": "code",
   "execution_count": null,
   "metadata": {},
   "outputs": [],
   "source": [
    "#4. Medicine\n",
    "\n",
    "age = int(input('Enter your age: '))\n",
    "weight = float(input('Enter your weight: '))\n",
    "\n",
    "if weight > 40 and age > 12:\n",
    "    print('You should take 1-2 pills')\n",
    "elif weight >= 26 and weight <= 40:\n",
    "    print('You should take 1/2 - 1 pill')\n",
    "else:\n",
    "    print('You should take 1/2 pill')"
   ]
  },
  {
   "cell_type": "code",
   "execution_count": null,
   "metadata": {},
   "outputs": [],
   "source": [
    "#5. Divisible\n",
    "\n",
    "number = float(input('Enter number: '))\n",
    "\n",
    "if number % 2 != 0:\n",
    "    print('Number is odd.')\n",
    "    if number % 5 == 0:\n",
    "        print('Number is odd and divisible by 5.')\n",
    "else:\n",
    "    print('Number is even')"
   ]
  },
  {
   "cell_type": "code",
   "execution_count": null,
   "metadata": {},
   "outputs": [],
   "source": [
    "#6.Luggage size\n",
    "\n",
    "weight = float(input('Enter the weight of your luggage: '))\n",
    "height = float(input('Enter the height of your luggage: '))\n",
    "width = float(input('Enter the width of your luggage: '))\n",
    "length = float(input('Enter the length of your luggage: '))\n",
    "\n",
    "if weight > 8 or height > 23 or width > 40 or length > 55:\n",
    "    print('The luggage is not allowed.')\n",
    "else:\n",
    "    print('The luggage is allowed.')"
   ]
  }
 ],
 "metadata": {
  "kernelspec": {
   "display_name": "Python 3",
   "language": "python",
   "name": "python3"
  },
  "language_info": {
   "codemirror_mode": {
    "name": "ipython",
    "version": 3
   },
   "file_extension": ".py",
   "mimetype": "text/x-python",
   "name": "python",
   "nbconvert_exporter": "python",
   "pygments_lexer": "ipython3",
   "version": "3.9.6"
  }
 },
 "nbformat": 4,
 "nbformat_minor": 2
}
