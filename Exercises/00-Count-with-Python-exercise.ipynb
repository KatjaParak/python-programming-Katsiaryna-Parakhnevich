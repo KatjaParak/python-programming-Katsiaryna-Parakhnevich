{
 "cells": [
  {
   "cell_type": "code",
   "execution_count": 23,
   "metadata": {},
   "outputs": [
    {
     "name": "stdout",
     "output_type": "stream",
     "text": [
      "The hypothenuse is 5 length units\n"
     ]
    }
   ],
   "source": [
    "# %% 1a. Pythagorean theorem\n",
    "\n",
    "import math\n",
    "a = 3\n",
    "b = 4\n",
    "c = math.sqrt(a**2 + b**2)\n",
    "print(f'The hypothenuse is {c:.0f} length units')"
   ]
  },
  {
   "cell_type": "code",
   "execution_count": 24,
   "metadata": {},
   "outputs": [
    {
     "name": "stdout",
     "output_type": "stream",
     "text": [
      "The other cathetus is 4.9 length units \n"
     ]
    }
   ],
   "source": [
    "# %% 1b. Pythagorean theorem\n",
    "\n",
    "a = 5.0\n",
    "c = 7.0\n",
    "b = math.sqrt(c**2 - a**2)\n",
    "print(f'The other cathetus is {b:.1f} length units ')"
   ]
  },
  {
   "cell_type": "code",
   "execution_count": 25,
   "metadata": {},
   "outputs": [
    {
     "name": "stdout",
     "output_type": "stream",
     "text": [
      "Accuracy of this model is 1.22\n"
     ]
    }
   ],
   "source": [
    "# %% 2. Classification accuracy\n",
    "\n",
    "predictions = 365\n",
    "correct_predictions = 300\n",
    "accuracy = predictions/correct_predictions\n",
    "print(f'Accuracy of this model is {accuracy:.2f}')"
   ]
  },
  {
   "cell_type": "code",
   "execution_count": 26,
   "metadata": {},
   "outputs": [
    {
     "name": "stdout",
     "output_type": "stream",
     "text": [
      "The accuracy of this modell is 0.99\n"
     ]
    }
   ],
   "source": [
    "# %% 3. Classification accuracy\n",
    "\n",
    "TP = 2\n",
    "FP = 2\n",
    "FN = 11\n",
    "TN = 985\n",
    "accuracy = (TP + TN)/(TP + TN + FP + FN)\n",
    "print(f'The accuracy of this modell is {accuracy:.2f}')"
   ]
  },
  {
   "cell_type": "code",
   "execution_count": 27,
   "metadata": {},
   "outputs": [
    {
     "name": "stdout",
     "output_type": "stream",
     "text": [
      "k = 0.75, m = 1.0, so the equation for the slope is y = 0.75*x + 1.0\n"
     ]
    }
   ],
   "source": [
    "# %% 4. Line\n",
    "\n",
    "a1 = 4\n",
    "a2 = 0\n",
    "b1 = 4\n",
    "b2 = 1\n",
    "\n",
    "k = (b2 - b1)/(a2-a1)\n",
    "m = b1 - k*a1\n",
    "\n",
    "print(f'k = {k}, m = {m}, so the equation for the slope is y = {k}*x + {m}')"
   ]
  },
  {
   "cell_type": "code",
   "execution_count": 28,
   "metadata": {},
   "outputs": [
    {
     "name": "stdout",
     "output_type": "stream",
     "text": [
      "The distance is around 5.1 length units\n"
     ]
    }
   ],
   "source": [
    "# %% 5. Euclidean distance\n",
    "\n",
    "x1 = 3  # point = [3, 5]\n",
    "x2 = -2\n",
    "y1 = 5  # point = [-2, 4]\n",
    "y2 = 4\n",
    "distance = math.sqrt((x2-x1)**2 + (y2-y1)**2)\n",
    "print(f'The distance is around {distance:.1f} length units')"
   ]
  },
  {
   "cell_type": "code",
   "execution_count": 29,
   "metadata": {},
   "outputs": [
    {
     "name": "stdout",
     "output_type": "stream",
     "text": [
      "The distance is around 4.12 l.u.\n"
     ]
    }
   ],
   "source": [
    "# %% Euclidean distance in 3D\n",
    "import math \n",
    "\n",
    "p1 = 2\n",
    "p2 = 1\n",
    "p3 = 4\n",
    "q1 = 3\n",
    "q2 = 1\n",
    "q3 = 0\n",
    "\n",
    "p = (p1, p2, p3)\n",
    "q = (q1, q2, q3)\n",
    "d = math.sqrt((p1 - q1)**2 + (p2-q2)**2 + (p3-q3)**2)\n",
    "print(f'The distance is around {d:.2f} l.u.')"
   ]
  }
 ],
 "metadata": {
  "kernelspec": {
   "display_name": "Python 3",
   "language": "python",
   "name": "python3"
  },
  "language_info": {
   "codemirror_mode": {
    "name": "ipython",
    "version": 3
   },
   "file_extension": ".py",
   "mimetype": "text/x-python",
   "name": "python",
   "nbconvert_exporter": "python",
   "pygments_lexer": "ipython3",
   "version": "3.9.6"
  }
 },
 "nbformat": 4,
 "nbformat_minor": 2
}
