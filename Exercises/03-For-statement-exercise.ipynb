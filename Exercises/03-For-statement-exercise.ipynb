{
 "cells": [
  {
   "cell_type": "code",
   "execution_count": null,
   "metadata": {},
   "outputs": [],
   "source": [
    "# 1a. Count numbers\n",
    "\n",
    "for i in range(-10, 11):\n",
    "    print(i, end=' ')"
   ]
  },
  {
   "cell_type": "code",
   "execution_count": null,
   "metadata": {},
   "outputs": [],
   "source": [
    "#1b. Count numbers\n",
    "\n",
    "for i in range(-10, 11, 2):\n",
    "    print(i, end=' ')"
   ]
  },
  {
   "cell_type": "code",
   "execution_count": null,
   "metadata": {},
   "outputs": [],
   "source": [
    "#2a. Arithmetic sum\n",
    "\n",
    "sum = 0\n",
    "for i in range(1, 101):\n",
    "    sum += i\n",
    "    \n",
    "    print(f\"{i}\", end=\" \")\n",
    "    if i != 100:\n",
    "        print(\"+\", end=\" \")\n",
    "    if i == 100:\n",
    "        print(f\"= {sum}\", end=\" \")"
   ]
  },
  {
   "cell_type": "code",
   "execution_count": null,
   "metadata": {},
   "outputs": [],
   "source": [
    "#2b. Arithmetic sum \n",
    "\n",
    "sum = 0\n",
    "for i in range(1, 101, 2):\n",
    "    sum += i\n",
    "    \n",
    "    print(f\"{i}\", end=\" \")\n",
    "    if i != 99:\n",
    "        print(\"+\", end=\" \")\n",
    "    if i == 99:\n",
    "        print(f\"= {sum}\", end=\" \")"
   ]
  },
  {
   "cell_type": "code",
   "execution_count": null,
   "metadata": {},
   "outputs": [],
   "source": [
    "#3a. Multiplicaton tabel\n",
    "\n",
    "for i in range(0,11):\n",
    "    print(i*6, end=\" \")"
   ]
  },
  {
   "cell_type": "code",
   "execution_count": null,
   "metadata": {},
   "outputs": [],
   "source": [
    "#3b. Multiplication tabel\n",
    "\n",
    "number = int(input('Which table are you interested in? '))\n",
    "start = int(input('Specify start of table: '))\n",
    "end = int(input('Specify end of table: '))\n",
    "\n",
    "table = [number * i for i in range(start, end+1)]\n",
    "\n",
    "print(f'Your {number}th multiplikation table from {start} to {end}: {table}')"
   ]
  },
  {
   "cell_type": "code",
   "execution_count": null,
   "metadata": {},
   "outputs": [],
   "source": [
    "#3c. Multiplication tabel\n",
    "\n",
    "for x in range(0, 11):\n",
    "    for y in range(0, 11):\n",
    "        print(f'{x*y}\\t', end='')\n",
    "    print()"
   ]
  },
  {
   "cell_type": "code",
   "execution_count": null,
   "metadata": {},
   "outputs": [],
   "source": [
    "#4. Faculty\n",
    "n = int(input(\"Enter number: \"))\n",
    "fac = 1\n",
    "for i in range(1, n+1):\n",
    "    fac = fac*i\n",
    "\n",
    "print(f\"Faculty of number {n} is {fac}\")"
   ]
  },
  {
   "cell_type": "code",
   "execution_count": null,
   "metadata": {},
   "outputs": [],
   "source": [
    "#5. Guess the number \n",
    "import random as rnd\n",
    "\n",
    "random_number = rnd.randint(1000,9999)\n"
   ]
  },
  {
   "cell_type": "code",
   "execution_count": null,
   "metadata": {},
   "outputs": [],
   "source": [
    "#6. Rice on chessboard"
   ]
  }
 ],
 "metadata": {
  "kernelspec": {
   "display_name": "Python 3",
   "language": "python",
   "name": "python3"
  },
  "language_info": {
   "codemirror_mode": {
    "name": "ipython",
    "version": 3
   },
   "file_extension": ".py",
   "mimetype": "text/x-python",
   "name": "python",
   "nbconvert_exporter": "python",
   "pygments_lexer": "ipython3",
   "version": "3.9.6"
  }
 },
 "nbformat": 4,
 "nbformat_minor": 2
}
