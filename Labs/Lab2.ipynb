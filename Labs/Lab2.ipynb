{
 "cells": [
  {
   "cell_type": "code",
   "execution_count": null,
   "metadata": {},
   "outputs": [],
   "source": [
    "import matplotlib.pyplot as plt\n",
    "import numpy as np\n",
    "\n",
    "\n",
    "with open(\"datapoints.txt\", \"r\") as f_read:\n",
    "     lines = [line.strip(\"\\n\").replace(\",\",\"\") for line in f_read.readlines() if line[0].isdigit()] \n",
    "     Pichu = [line.split() for line in lines if line[-1]== '0']\n",
    "     Pikachu = [line.split() for line in lines if line[-1]== '1']\n",
    "     Pichu_width = [float(item) for line in Pichu for item in line[0:1]]\n",
    "     Pichu_height = [float(item) for line in Pichu for item in line[1:2]]\n",
    "     Pichu_label = [int(item) for line in Pichu for item in line[2:]]\n",
    "     Pikachu_width = [float(item) for line in Pikachu for item in line[0:1]]\n",
    "     Pikachu_height = [float(item) for line in Pikachu for item in line[1:2]]\n",
    "     Pikachu_label = [int(item) for line in Pikachu for item in line[2:]]\n",
    "     \n",
    "                  \n",
    "with open(\"testpoints.txt\", \"r\") as t_read:\n",
    "     t_data = [line.strip(\"\\n\").replace(\",\",\"\").split() for line in t_read.readlines() if line[0].isdigit()]\n",
    "     x_data = [float(item.replace(\"(\",\"\").replace(\")\",\"\")) for line in t_data for item in line[1::3]]\n",
    "     y_data = [float(item.replace(\"(\",\"\").replace(\")\",\"\")) for line in t_data for item in line[2::3]]\n",
    "\n",
    "\n",
    "print(lines)\n",
    "print(Pichu)\n",
    "print(Pikachu)\n",
    "print(Pichu_width)\n",
    "print(Pichu_height)\n",
    "print(Pichu_label)\n",
    "print(Pikachu_width)\n",
    "print(Pikachu_height)\n",
    "print(t_data)\n",
    "print(x_data)\n",
    "print(y_data)\n",
    "\n",
    "\n",
    "plt.plot(Pichu_width,Pichu_height,'o',label='0 - Pichu')\n",
    "plt.plot(Pikachu_width,Pichu_height,'o',label='1 - Pikachu')\n",
    "plt.plot(x_data,y_data,'o',label='Testdata')\n",
    "plt.title('Pichu and Pikachu')\n",
    "plt.xlabel('width i cm')\n",
    "plt.ylabel('height i cm')\n",
    "plt.legend(fontsize=8)\n",
    "\n",
    "\n",
    "\n",
    "\n",
    "\n"
   ]
  }
 ],
 "metadata": {
  "kernelspec": {
   "display_name": "Python 3",
   "language": "python",
   "name": "python3"
  },
  "language_info": {
   "codemirror_mode": {
    "name": "ipython",
    "version": 3
   },
   "file_extension": ".py",
   "mimetype": "text/x-python",
   "name": "python",
   "nbconvert_exporter": "python",
   "pygments_lexer": "ipython3",
   "version": "3.9.6"
  }
 },
 "nbformat": 4,
 "nbformat_minor": 2
}
